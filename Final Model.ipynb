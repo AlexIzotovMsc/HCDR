{
 "cells": [
  {
   "cell_type": "code",
   "execution_count": 1,
   "metadata": {},
   "outputs": [],
   "source": [
    "import pandas as pd\n",
    "import numpy as np\n",
    "import statsmodels.api as sm\n",
    "from statsmodels.discrete.discrete_model import Logit\n",
    "from sklearn.preprocessing import Imputer\n",
    "from sklearn.model_selection import GridSearchCV\n",
    "from sklearn.linear_model import LogisticRegression"
   ]
  },
  {
   "cell_type": "code",
   "execution_count": 2,
   "metadata": {},
   "outputs": [],
   "source": [
    "df_train = pd.read_csv(\"train_final.csv\")\n",
    "df_test = pd.read_csv(\"test_final.csv\")"
   ]
  },
  {
   "cell_type": "code",
   "execution_count": 3,
   "metadata": {},
   "outputs": [
    {
     "data": {
      "text/html": [
       "<div>\n",
       "<style scoped>\n",
       "    .dataframe tbody tr th:only-of-type {\n",
       "        vertical-align: middle;\n",
       "    }\n",
       "\n",
       "    .dataframe tbody tr th {\n",
       "        vertical-align: top;\n",
       "    }\n",
       "\n",
       "    .dataframe thead th {\n",
       "        text-align: right;\n",
       "    }\n",
       "</style>\n",
       "<table border=\"1\" class=\"dataframe\">\n",
       "  <thead>\n",
       "    <tr style=\"text-align: right;\">\n",
       "      <th></th>\n",
       "      <th>TARGET</th>\n",
       "      <th>SK_ID_CURR</th>\n",
       "      <th>EXT_SOURCE_1</th>\n",
       "      <th>EXT_SOURCE_2</th>\n",
       "      <th>EXT_SOURCE_3</th>\n",
       "      <th>DAYS_BIRTH_NORM</th>\n",
       "      <th>CREDIT_TERM</th>\n",
       "      <th>ANNUITY_INCOME_PERCENT</th>\n",
       "      <th>DAYS_EMPLOYED_PERCENT</th>\n",
       "      <th>GROUP_EXT_SOURCES_MEDIAN</th>\n",
       "      <th>PREV_Cash_SIMPLE_INTERESTS_MAX</th>\n",
       "      <th>PREV_Cash_SIMPLE_INTERESTS_MEAN</th>\n",
       "      <th>EXT_SOURCES_PROD</th>\n",
       "      <th>EXT_SOURCES_WEIGHTED</th>\n",
       "    </tr>\n",
       "  </thead>\n",
       "  <tbody>\n",
       "    <tr>\n",
       "      <th>0</th>\n",
       "      <td>1.0</td>\n",
       "      <td>100002</td>\n",
       "      <td>0.0830</td>\n",
       "      <td>0.2630</td>\n",
       "      <td>0.1394</td>\n",
       "      <td>1.506891</td>\n",
       "      <td>0.060749</td>\n",
       "      <td>0.121978</td>\n",
       "      <td>0.067329</td>\n",
       "      <td>0.3650</td>\n",
       "      <td>NaN</td>\n",
       "      <td>NaN</td>\n",
       "      <td>0.003044</td>\n",
       "      <td>0.847</td>\n",
       "    </tr>\n",
       "    <tr>\n",
       "      <th>1</th>\n",
       "      <td>0.0</td>\n",
       "      <td>100003</td>\n",
       "      <td>0.3113</td>\n",
       "      <td>0.6220</td>\n",
       "      <td>NaN</td>\n",
       "      <td>-0.166811</td>\n",
       "      <td>0.027598</td>\n",
       "      <td>0.132217</td>\n",
       "      <td>0.070862</td>\n",
       "      <td>0.5845</td>\n",
       "      <td>0.01162</td>\n",
       "      <td>0.01162</td>\n",
       "      <td>NaN</td>\n",
       "      <td>NaN</td>\n",
       "    </tr>\n",
       "    <tr>\n",
       "      <th>2</th>\n",
       "      <td>0.0</td>\n",
       "      <td>100004</td>\n",
       "      <td>NaN</td>\n",
       "      <td>0.5560</td>\n",
       "      <td>0.7295</td>\n",
       "      <td>-0.689500</td>\n",
       "      <td>0.050000</td>\n",
       "      <td>0.100000</td>\n",
       "      <td>0.011814</td>\n",
       "      <td>0.5664</td>\n",
       "      <td>NaN</td>\n",
       "      <td>NaN</td>\n",
       "      <td>NaN</td>\n",
       "      <td>NaN</td>\n",
       "    </tr>\n",
       "    <tr>\n",
       "      <th>3</th>\n",
       "      <td>0.0</td>\n",
       "      <td>100006</td>\n",
       "      <td>NaN</td>\n",
       "      <td>0.6504</td>\n",
       "      <td>NaN</td>\n",
       "      <td>-0.680105</td>\n",
       "      <td>0.094941</td>\n",
       "      <td>0.219900</td>\n",
       "      <td>0.159958</td>\n",
       "      <td>0.5670</td>\n",
       "      <td>0.02742</td>\n",
       "      <td>0.01924</td>\n",
       "      <td>NaN</td>\n",
       "      <td>NaN</td>\n",
       "    </tr>\n",
       "    <tr>\n",
       "      <th>4</th>\n",
       "      <td>0.0</td>\n",
       "      <td>100007</td>\n",
       "      <td>NaN</td>\n",
       "      <td>0.3228</td>\n",
       "      <td>NaN</td>\n",
       "      <td>-0.892525</td>\n",
       "      <td>0.042623</td>\n",
       "      <td>0.179963</td>\n",
       "      <td>0.152418</td>\n",
       "      <td>0.5693</td>\n",
       "      <td>0.03616</td>\n",
       "      <td>0.02490</td>\n",
       "      <td>NaN</td>\n",
       "      <td>NaN</td>\n",
       "    </tr>\n",
       "  </tbody>\n",
       "</table>\n",
       "</div>"
      ],
      "text/plain": [
       "   TARGET  SK_ID_CURR  EXT_SOURCE_1  EXT_SOURCE_2  EXT_SOURCE_3  \\\n",
       "0     1.0      100002        0.0830        0.2630        0.1394   \n",
       "1     0.0      100003        0.3113        0.6220           NaN   \n",
       "2     0.0      100004           NaN        0.5560        0.7295   \n",
       "3     0.0      100006           NaN        0.6504           NaN   \n",
       "4     0.0      100007           NaN        0.3228           NaN   \n",
       "\n",
       "   DAYS_BIRTH_NORM  CREDIT_TERM  ANNUITY_INCOME_PERCENT  \\\n",
       "0         1.506891     0.060749                0.121978   \n",
       "1        -0.166811     0.027598                0.132217   \n",
       "2        -0.689500     0.050000                0.100000   \n",
       "3        -0.680105     0.094941                0.219900   \n",
       "4        -0.892525     0.042623                0.179963   \n",
       "\n",
       "   DAYS_EMPLOYED_PERCENT  GROUP_EXT_SOURCES_MEDIAN  \\\n",
       "0               0.067329                    0.3650   \n",
       "1               0.070862                    0.5845   \n",
       "2               0.011814                    0.5664   \n",
       "3               0.159958                    0.5670   \n",
       "4               0.152418                    0.5693   \n",
       "\n",
       "   PREV_Cash_SIMPLE_INTERESTS_MAX  PREV_Cash_SIMPLE_INTERESTS_MEAN  \\\n",
       "0                             NaN                              NaN   \n",
       "1                         0.01162                          0.01162   \n",
       "2                             NaN                              NaN   \n",
       "3                         0.02742                          0.01924   \n",
       "4                         0.03616                          0.02490   \n",
       "\n",
       "   EXT_SOURCES_PROD  EXT_SOURCES_WEIGHTED  \n",
       "0          0.003044                 0.847  \n",
       "1               NaN                   NaN  \n",
       "2               NaN                   NaN  \n",
       "3               NaN                   NaN  \n",
       "4               NaN                   NaN  "
      ]
     },
     "execution_count": 3,
     "metadata": {},
     "output_type": "execute_result"
    }
   ],
   "source": [
    "df_train.head()"
   ]
  },
  {
   "cell_type": "code",
   "execution_count": 4,
   "metadata": {},
   "outputs": [],
   "source": [
    "y_train = df_train[\"TARGET\"]\n",
    "X_ptrain = df_train.drop([\"TARGET\", \"SK_ID_CURR\"], axis = 1)\n",
    "X_ptest = df_test.drop([\"SK_ID_CURR\"], axis = 1)"
   ]
  },
  {
   "cell_type": "code",
   "execution_count": 5,
   "metadata": {},
   "outputs": [],
   "source": [
    "# Median imputation of missing values\n",
    "imputer = Imputer(strategy = 'median')"
   ]
  },
  {
   "cell_type": "code",
   "execution_count": 6,
   "metadata": {},
   "outputs": [
    {
     "data": {
      "text/plain": [
       "Imputer(axis=0, copy=True, missing_values='NaN', strategy='median', verbose=0)"
      ]
     },
     "execution_count": 6,
     "metadata": {},
     "output_type": "execute_result"
    }
   ],
   "source": [
    "# Fit on the training data\n",
    "imputer.fit(X_ptrain)"
   ]
  },
  {
   "cell_type": "code",
   "execution_count": 7,
   "metadata": {},
   "outputs": [],
   "source": [
    "# Transform both training and testing data\n",
    "train = pd.DataFrame(imputer.transform(X_ptrain))\n",
    "test = pd.DataFrame(imputer.transform(X_ptest))"
   ]
  },
  {
   "cell_type": "markdown",
   "metadata": {},
   "source": [
    "## Logit from statsmodels"
   ]
  },
  {
   "cell_type": "code",
   "execution_count": 8,
   "metadata": {},
   "outputs": [],
   "source": [
    "X_train = sm.add_constant(train)\n",
    "X_test = sm.add_constant(test)"
   ]
  },
  {
   "cell_type": "code",
   "execution_count": 9,
   "metadata": {},
   "outputs": [
    {
     "name": "stdout",
     "output_type": "stream",
     "text": [
      "Optimization terminated successfully.\n",
      "         Current function value: 0.254144\n",
      "         Iterations 8\n",
      "                           Logit Regression Results                           \n",
      "==============================================================================\n",
      "Dep. Variable:                 TARGET   No. Observations:               307506\n",
      "Model:                          Logit   Df Residuals:                   307493\n",
      "Method:                           MLE   Df Model:                           12\n",
      "Date:                Sat, 22 Jun 2019   Pseudo R-squ.:                 0.09409\n",
      "Time:                        23:19:33   Log-Likelihood:                -78151.\n",
      "converged:                       True   LL-Null:                       -86268.\n",
      "                                        LLR p-value:                     0.000\n",
      "==============================================================================\n",
      "                 coef    std err          z      P>|z|      [0.025      0.975]\n",
      "------------------------------------------------------------------------------\n",
      "const         -0.2329      0.095     -2.458      0.014      -0.419      -0.047\n",
      "0             -2.0015      0.068    -29.603      0.000      -2.134      -1.869\n",
      "1             -2.3429      0.035    -66.683      0.000      -2.412      -2.274\n",
      "2             -2.9805      0.046    -64.573      0.000      -3.071      -2.890\n",
      "3              0.0454      0.009      5.235      0.000       0.028       0.062\n",
      "4             -0.9399      0.313     -2.999      0.003      -1.554      -0.326\n",
      "5              1.0815      0.071     15.269      0.000       0.943       1.220\n",
      "6             -1.3145      0.066    -19.883      0.000      -1.444      -1.185\n",
      "7             -0.6534      0.142     -4.602      0.000      -0.932      -0.375\n",
      "8             15.1082      2.204      6.856      0.000      10.789      19.427\n",
      "9             17.9808      2.449      7.341      0.000      13.180      22.781\n",
      "10            -0.9281      0.294     -3.160      0.002      -1.504      -0.352\n",
      "11             0.3379      0.029     11.629      0.000       0.281       0.395\n",
      "==============================================================================\n"
     ]
    }
   ],
   "source": [
    "model = Logit(y_train, X_train)\n",
    "results = model.fit()\n",
    "print(results.summary())"
   ]
  },
  {
   "cell_type": "markdown",
   "metadata": {},
   "source": [
    "## Logistic Regression hyperparameters tuning"
   ]
  },
  {
   "cell_type": "code",
   "execution_count": 11,
   "metadata": {},
   "outputs": [
    {
     "name": "stdout",
     "output_type": "stream",
     "text": [
      "tuned hpyerparameters :(best parameters)  {'C': 1.0, 'penalty': 'l2'}\n",
      "accuracy : 0.9193088915338238\n"
     ]
    }
   ],
   "source": [
    "#from sklearn.model_selection import GridSearchCV\n",
    "#from sklearn.linear_model import LogisticRegression\n",
    "grid={\"C\":np.logspace(-3,3,7), \"penalty\":[\"l1\",\"l2\"]}# l1 lasso l2 ridge\n",
    "logit=LogisticRegression()\n",
    "logit_cv=GridSearchCV(logit, grid, cv=10)\n",
    "logit_cv.fit(train, y_train)\n",
    "\n",
    "print(\"tuned hpyerparameters :(best parameters) \",logit_cv.best_params_)\n",
    "print(\"accuracy :\",logit_cv.best_score_)"
   ]
  },
  {
   "cell_type": "code",
   "execution_count": 15,
   "metadata": {},
   "outputs": [],
   "source": [
    "logitTuned = LogisticRegression(penalty= 'l1', C = 1.0)"
   ]
  },
  {
   "cell_type": "code",
   "execution_count": 16,
   "metadata": {},
   "outputs": [
    {
     "data": {
      "text/plain": [
       "LogisticRegression(C=1.0, class_weight=None, dual=False, fit_intercept=True,\n",
       "          intercept_scaling=1, max_iter=100, multi_class='ovr', n_jobs=1,\n",
       "          penalty='l1', random_state=None, solver='liblinear', tol=0.0001,\n",
       "          verbose=0, warm_start=False)"
      ]
     },
     "execution_count": 16,
     "metadata": {},
     "output_type": "execute_result"
    }
   ],
   "source": [
    "logitTuned.fit(train, y_train)"
   ]
  },
  {
   "cell_type": "code",
   "execution_count": 17,
   "metadata": {},
   "outputs": [],
   "source": [
    "y_pred = logitTuned.predict_proba(test)[:, 1]"
   ]
  },
  {
   "cell_type": "code",
   "execution_count": 18,
   "metadata": {},
   "outputs": [
    {
     "name": "stderr",
     "output_type": "stream",
     "text": [
      "C:\\Anaconda\\lib\\site-packages\\ipykernel_launcher.py:2: SettingWithCopyWarning: \n",
      "A value is trying to be set on a copy of a slice from a DataFrame.\n",
      "Try using .loc[row_indexer,col_indexer] = value instead\n",
      "\n",
      "See the caveats in the documentation: http://pandas.pydata.org/pandas-docs/stable/indexing.html#indexing-view-versus-copy\n",
      "  \n"
     ]
    },
    {
     "data": {
      "text/html": [
       "<div>\n",
       "<style scoped>\n",
       "    .dataframe tbody tr th:only-of-type {\n",
       "        vertical-align: middle;\n",
       "    }\n",
       "\n",
       "    .dataframe tbody tr th {\n",
       "        vertical-align: top;\n",
       "    }\n",
       "\n",
       "    .dataframe thead th {\n",
       "        text-align: right;\n",
       "    }\n",
       "</style>\n",
       "<table border=\"1\" class=\"dataframe\">\n",
       "  <thead>\n",
       "    <tr style=\"text-align: right;\">\n",
       "      <th></th>\n",
       "      <th>SK_ID_CURR</th>\n",
       "      <th>TARGET</th>\n",
       "    </tr>\n",
       "  </thead>\n",
       "  <tbody>\n",
       "    <tr>\n",
       "      <th>0</th>\n",
       "      <td>100001</td>\n",
       "      <td>0.052161</td>\n",
       "    </tr>\n",
       "    <tr>\n",
       "      <th>1</th>\n",
       "      <td>100005</td>\n",
       "      <td>0.091525</td>\n",
       "    </tr>\n",
       "    <tr>\n",
       "      <th>2</th>\n",
       "      <td>100013</td>\n",
       "      <td>0.025844</td>\n",
       "    </tr>\n",
       "    <tr>\n",
       "      <th>3</th>\n",
       "      <td>100028</td>\n",
       "      <td>0.051595</td>\n",
       "    </tr>\n",
       "    <tr>\n",
       "      <th>4</th>\n",
       "      <td>100038</td>\n",
       "      <td>0.118015</td>\n",
       "    </tr>\n",
       "  </tbody>\n",
       "</table>\n",
       "</div>"
      ],
      "text/plain": [
       "   SK_ID_CURR    TARGET\n",
       "0      100001  0.052161\n",
       "1      100005  0.091525\n",
       "2      100013  0.025844\n",
       "3      100028  0.051595\n",
       "4      100038  0.118015"
      ]
     },
     "execution_count": 18,
     "metadata": {},
     "output_type": "execute_result"
    }
   ],
   "source": [
    "submit = df_test[['SK_ID_CURR']]\n",
    "submit['TARGET'] = y_pred\n",
    "\n",
    "submit.head()"
   ]
  },
  {
   "cell_type": "code",
   "execution_count": 14,
   "metadata": {},
   "outputs": [],
   "source": [
    "submit.to_csv('LOGITfinal2.csv', index = False)"
   ]
  },
  {
   "cell_type": "code",
   "execution_count": 19,
   "metadata": {},
   "outputs": [],
   "source": [
    "rocauc = 0.71976"
   ]
  },
  {
   "cell_type": "code",
   "execution_count": 20,
   "metadata": {},
   "outputs": [
    {
     "data": {
      "text/plain": [
       "0.4395199999999999"
      ]
     },
     "execution_count": 20,
     "metadata": {},
     "output_type": "execute_result"
    }
   ],
   "source": [
    "gini = (2*rocauc) - 1\n",
    "gini"
   ]
  },
  {
   "cell_type": "code",
   "execution_count": null,
   "metadata": {},
   "outputs": [],
   "source": []
  }
 ],
 "metadata": {
  "kernelspec": {
   "display_name": "Python 3",
   "language": "python",
   "name": "python3"
  },
  "language_info": {
   "codemirror_mode": {
    "name": "ipython",
    "version": 3
   },
   "file_extension": ".py",
   "mimetype": "text/x-python",
   "name": "python",
   "nbconvert_exporter": "python",
   "pygments_lexer": "ipython3",
   "version": "3.7.0"
  }
 },
 "nbformat": 4,
 "nbformat_minor": 2
}
